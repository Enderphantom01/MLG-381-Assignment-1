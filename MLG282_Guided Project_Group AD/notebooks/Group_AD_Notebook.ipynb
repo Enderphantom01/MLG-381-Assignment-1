{
 "cells": [
  {
   "cell_type": "markdown",
   "id": "d292c249",
   "metadata": {},
   "source": [
    "## Group Members:\n",
    "\n",
    "Tshepang Kagiso Mashigo - 578012\n",
    "\n",
    "Jan Frederik Cronje Saayman – 577862\n",
    "\n",
    "Qiniso Manqoba Mngomezul – 601193\n",
    "\n",
    "Reinhardt van Vollenstee – 578095\n"
   ]
  },
  {
   "cell_type": "markdown",
   "id": "fdd58ef5",
   "metadata": {},
   "source": [
    "<hr/>"
   ]
  },
  {
   "cell_type": "markdown",
   "id": "8d2dad92",
   "metadata": {},
   "source": [
    "## Problem Statement\n",
    "BrightPath Academy experiences challenges when supporting students’ academic success. A plethora of data is collected, however, tools that could interpret it are not available, causing at-risk students to not be identified early, interventions not being able to be customized based on the student’s needs and measure the impact of extracurricular activities.\n",
    "### Problem Statement - Expanded\n",
    "BrightPath Academy seeks to pioneer academic excellence while additionally seeking to develop their students’ full potential by encouraging additional extracurricular activities. However, the institution faces challenges when attempting to support every student. These challenges are:\n",
    "- **Delayed Identification of at-risk students:** With current methods set in place, students who are at risk of failing their subjects could remain unnoticed until it is too late to receive intervention from teachers.\n",
    "- **Lack of Targeted Support Strategies:** Current interventions seem to be similar to each other where improved tools can allow for an intervention to be suited and moulded to each individual student’s specific needs.\n",
    "- **Unclear Impact of Extracurricular Activities:** Data collected on the impact of Extracurricular Activities is limited and thus cannot be fully known or predicted, however, this still allows for additional activities to have some sort of impact.\n",
    "- **Data Overload Without Actionable Insights:** Currently, no centralized platform is available to interpret the data and fully utilize its potential and thus allows for an unoptimized system."
   ]
  },
  {
   "cell_type": "markdown",
   "id": "27e4b60a",
   "metadata": {},
   "source": [
    "<hr/>"
   ]
  },
  {
   "cell_type": "markdown",
   "id": "131dc098",
   "metadata": {},
   "source": [
    "## Hypotheses\n",
    "- **H1:** Additional study hours invested per week by the student will allow for a higher GPA (StudyTimeWeekly)\n",
    "- **H2:** Better academic performance may be achieved with further parental support (ParentalSupport)\n",
    "- **H3:** There is a positive correlation between extracurricular activities and academics (Extracurricular)\n",
    "- **H4:** Academic Performance does not significantly rely on gender (Gender)\n",
    "- **H5:** Higher levels of parental education allows for the student to achieve better academic performance (ParentalEducation)\n",
    "\n"
   ]
  },
  {
   "cell_type": "markdown",
   "id": "14da9148",
   "metadata": {},
   "source": [
    "<hr/>"
   ]
  },
  {
   "cell_type": "markdown",
   "id": "23137759",
   "metadata": {},
   "source": [
    "## Getting the System Ready & Loading the Data\n",
    "\n",
    "#### Install environmental dependencies"
   ]
  },
  {
   "cell_type": "code",
   "execution_count": 1,
   "id": "36c036e6",
   "metadata": {
    "vscode": {
     "languageId": "powershell"
    }
   },
   "outputs": [
    {
     "name": "stdout",
     "output_type": "stream",
     "text": [
      "^C\n"
     ]
    }
   ],
   "source": [
    "!pip install pandas numpy matplotlib seaborn scikit-learn"
   ]
  },
  {
   "cell_type": "markdown",
   "id": "4516d8fc",
   "metadata": {},
   "source": [
    "#### Import all required Libraries"
   ]
  },
  {
   "cell_type": "code",
   "execution_count": 2,
   "id": "16e78347",
   "metadata": {},
   "outputs": [
    {
     "name": "stdout",
     "output_type": "stream",
     "text": [
      "Requirement already satisfied: pandas in c:\\users\\tshep\\anaconda3\\lib\\site-packages (2.2.2)\n",
      "Requirement already satisfied: numpy in c:\\users\\tshep\\anaconda3\\lib\\site-packages (1.26.4)\n",
      "Requirement already satisfied: matplotlib in c:\\users\\tshep\\anaconda3\\lib\\site-packages (3.9.2)\n",
      "Requirement already satisfied: seaborn in c:\\users\\tshep\\anaconda3\\lib\\site-packages (0.13.2)\n",
      "Requirement already satisfied: scikit-learn in c:\\users\\tshep\\anaconda3\\lib\\site-packages (1.5.1)\n",
      "Requirement already satisfied: python-dateutil>=2.8.2 in c:\\users\\tshep\\anaconda3\\lib\\site-packages (from pandas) (2.9.0.post0)\n",
      "Requirement already satisfied: pytz>=2020.1 in c:\\users\\tshep\\anaconda3\\lib\\site-packages (from pandas) (2024.1)\n",
      "Requirement already satisfied: tzdata>=2022.7 in c:\\users\\tshep\\anaconda3\\lib\\site-packages (from pandas) (2023.3)\n",
      "Requirement already satisfied: contourpy>=1.0.1 in c:\\users\\tshep\\anaconda3\\lib\\site-packages (from matplotlib) (1.2.0)\n",
      "Requirement already satisfied: cycler>=0.10 in c:\\users\\tshep\\anaconda3\\lib\\site-packages (from matplotlib) (0.11.0)\n",
      "Requirement already satisfied: fonttools>=4.22.0 in c:\\users\\tshep\\anaconda3\\lib\\site-packages (from matplotlib) (4.51.0)\n",
      "Requirement already satisfied: kiwisolver>=1.3.1 in c:\\users\\tshep\\anaconda3\\lib\\site-packages (from matplotlib) (1.4.4)\n",
      "Requirement already satisfied: packaging>=20.0 in c:\\users\\tshep\\anaconda3\\lib\\site-packages (from matplotlib) (24.1)\n",
      "Requirement already satisfied: pillow>=8 in c:\\users\\tshep\\anaconda3\\lib\\site-packages (from matplotlib) (10.4.0)\n",
      "Requirement already satisfied: pyparsing>=2.3.1 in c:\\users\\tshep\\anaconda3\\lib\\site-packages (from matplotlib) (3.1.2)\n",
      "Requirement already satisfied: scipy>=1.6.0 in c:\\users\\tshep\\anaconda3\\lib\\site-packages (from scikit-learn) (1.13.1)\n",
      "Requirement already satisfied: joblib>=1.2.0 in c:\\users\\tshep\\anaconda3\\lib\\site-packages (from scikit-learn) (1.4.2)\n",
      "Requirement already satisfied: threadpoolctl>=3.1.0 in c:\\users\\tshep\\anaconda3\\lib\\site-packages (from scikit-learn) (3.5.0)\n",
      "Requirement already satisfied: six>=1.5 in c:\\users\\tshep\\anaconda3\\lib\\site-packages (from python-dateutil>=2.8.2->pandas) (1.16.0)\n"
     ]
    }
   ],
   "source": [
    "import pandas as pd\n",
    "import numpy as np\n",
    "import matplotlib.pyplot as plt\n",
    "import seaborn as sns\n",
    "import os"
   ]
  },
  {
   "cell_type": "markdown",
   "id": "dcb40788",
   "metadata": {},
   "source": [
    "#### Find the datasource and check first five rows"
   ]
  },
  {
   "cell_type": "code",
   "execution_count": 3,
   "id": "1b2c1d59",
   "metadata": {},
   "outputs": [
    {
     "data": {
      "text/html": [
       "<div>\n",
       "<style scoped>\n",
       "    .dataframe tbody tr th:only-of-type {\n",
       "        vertical-align: middle;\n",
       "    }\n",
       "\n",
       "    .dataframe tbody tr th {\n",
       "        vertical-align: top;\n",
       "    }\n",
       "\n",
       "    .dataframe thead th {\n",
       "        text-align: right;\n",
       "    }\n",
       "</style>\n",
       "<table border=\"1\" class=\"dataframe\">\n",
       "  <thead>\n",
       "    <tr style=\"text-align: right;\">\n",
       "      <th></th>\n",
       "      <th>StudentID</th>\n",
       "      <th>Age</th>\n",
       "      <th>Gender</th>\n",
       "      <th>Ethnicity</th>\n",
       "      <th>ParentalEducation</th>\n",
       "      <th>StudyTimeWeekly</th>\n",
       "      <th>Absences</th>\n",
       "      <th>Tutoring</th>\n",
       "      <th>ParentalSupport</th>\n",
       "      <th>Extracurricular</th>\n",
       "      <th>Sports</th>\n",
       "      <th>Music</th>\n",
       "      <th>Volunteering</th>\n",
       "      <th>GPA</th>\n",
       "      <th>GradeClass</th>\n",
       "    </tr>\n",
       "  </thead>\n",
       "  <tbody>\n",
       "    <tr>\n",
       "      <th>0</th>\n",
       "      <td>1001</td>\n",
       "      <td>17</td>\n",
       "      <td>1</td>\n",
       "      <td>0</td>\n",
       "      <td>2</td>\n",
       "      <td>19.833723</td>\n",
       "      <td>7</td>\n",
       "      <td>1</td>\n",
       "      <td>2</td>\n",
       "      <td>0</td>\n",
       "      <td>0</td>\n",
       "      <td>1</td>\n",
       "      <td>0</td>\n",
       "      <td>2.929196</td>\n",
       "      <td>2.0</td>\n",
       "    </tr>\n",
       "    <tr>\n",
       "      <th>1</th>\n",
       "      <td>1002</td>\n",
       "      <td>18</td>\n",
       "      <td>0</td>\n",
       "      <td>0</td>\n",
       "      <td>1</td>\n",
       "      <td>15.408756</td>\n",
       "      <td>0</td>\n",
       "      <td>0</td>\n",
       "      <td>1</td>\n",
       "      <td>0</td>\n",
       "      <td>0</td>\n",
       "      <td>0</td>\n",
       "      <td>0</td>\n",
       "      <td>3.042915</td>\n",
       "      <td>1.0</td>\n",
       "    </tr>\n",
       "    <tr>\n",
       "      <th>2</th>\n",
       "      <td>1003</td>\n",
       "      <td>15</td>\n",
       "      <td>0</td>\n",
       "      <td>2</td>\n",
       "      <td>3</td>\n",
       "      <td>4.210570</td>\n",
       "      <td>26</td>\n",
       "      <td>0</td>\n",
       "      <td>2</td>\n",
       "      <td>0</td>\n",
       "      <td>0</td>\n",
       "      <td>0</td>\n",
       "      <td>0</td>\n",
       "      <td>0.112602</td>\n",
       "      <td>4.0</td>\n",
       "    </tr>\n",
       "    <tr>\n",
       "      <th>3</th>\n",
       "      <td>1004</td>\n",
       "      <td>17</td>\n",
       "      <td>1</td>\n",
       "      <td>0</td>\n",
       "      <td>3</td>\n",
       "      <td>10.028829</td>\n",
       "      <td>14</td>\n",
       "      <td>0</td>\n",
       "      <td>3</td>\n",
       "      <td>1</td>\n",
       "      <td>0</td>\n",
       "      <td>0</td>\n",
       "      <td>0</td>\n",
       "      <td>2.054218</td>\n",
       "      <td>3.0</td>\n",
       "    </tr>\n",
       "    <tr>\n",
       "      <th>4</th>\n",
       "      <td>1005</td>\n",
       "      <td>17</td>\n",
       "      <td>1</td>\n",
       "      <td>0</td>\n",
       "      <td>2</td>\n",
       "      <td>4.672495</td>\n",
       "      <td>17</td>\n",
       "      <td>1</td>\n",
       "      <td>3</td>\n",
       "      <td>0</td>\n",
       "      <td>0</td>\n",
       "      <td>0</td>\n",
       "      <td>0</td>\n",
       "      <td>1.288061</td>\n",
       "      <td>4.0</td>\n",
       "    </tr>\n",
       "  </tbody>\n",
       "</table>\n",
       "</div>"
      ],
      "text/plain": [
       "   StudentID  Age  Gender  Ethnicity  ParentalEducation  StudyTimeWeekly  \\\n",
       "0       1001   17       1          0                  2        19.833723   \n",
       "1       1002   18       0          0                  1        15.408756   \n",
       "2       1003   15       0          2                  3         4.210570   \n",
       "3       1004   17       1          0                  3        10.028829   \n",
       "4       1005   17       1          0                  2         4.672495   \n",
       "\n",
       "   Absences  Tutoring  ParentalSupport  Extracurricular  Sports  Music  \\\n",
       "0         7         1                2                0       0      1   \n",
       "1         0         0                1                0       0      0   \n",
       "2        26         0                2                0       0      0   \n",
       "3        14         0                3                1       0      0   \n",
       "4        17         1                3                0       0      0   \n",
       "\n",
       "   Volunteering       GPA  GradeClass  \n",
       "0             0  2.929196         2.0  \n",
       "1             0  3.042915         1.0  \n",
       "2             0  0.112602         4.0  \n",
       "3             0  2.054218         3.0  \n",
       "4             0  1.288061         4.0  "
      ]
     },
     "execution_count": 3,
     "metadata": {},
     "output_type": "execute_result"
    }
   ],
   "source": [
    "base_dir = os.path.dirname(os.path.abspath(\"__file__\"))  # Current working directory\n",
    "data_path = os.path.join(base_dir, \"..\", \"data\", \"Student_performance_data .csv\")\n",
    "df = pd.read_csv(data_path)\n",
    "\n",
    "df.head()"
   ]
  },
  {
   "cell_type": "markdown",
   "id": "df5e67cf",
   "metadata": {},
   "source": [
    "#### Display a comprehensive list of data types, missing values and statistics"
   ]
  },
  {
   "cell_type": "code",
   "execution_count": 4,
   "id": "65822866",
   "metadata": {},
   "outputs": [
    {
     "name": "stdout",
     "output_type": "stream",
     "text": [
      "<class 'pandas.core.frame.DataFrame'>\n",
      "RangeIndex: 2392 entries, 0 to 2391\n",
      "Data columns (total 15 columns):\n",
      " #   Column             Non-Null Count  Dtype  \n",
      "---  ------             --------------  -----  \n",
      " 0   StudentID          2392 non-null   int64  \n",
      " 1   Age                2392 non-null   int64  \n",
      " 2   Gender             2392 non-null   int64  \n",
      " 3   Ethnicity          2392 non-null   int64  \n",
      " 4   ParentalEducation  2392 non-null   int64  \n",
      " 5   StudyTimeWeekly    2392 non-null   float64\n",
      " 6   Absences           2392 non-null   int64  \n",
      " 7   Tutoring           2392 non-null   int64  \n",
      " 8   ParentalSupport    2392 non-null   int64  \n",
      " 9   Extracurricular    2392 non-null   int64  \n",
      " 10  Sports             2392 non-null   int64  \n",
      " 11  Music              2392 non-null   int64  \n",
      " 12  Volunteering       2392 non-null   int64  \n",
      " 13  GPA                2392 non-null   float64\n",
      " 14  GradeClass         2392 non-null   float64\n",
      "dtypes: float64(3), int64(12)\n",
      "memory usage: 280.4 KB\n"
     ]
    },
    {
     "data": {
      "text/html": [
       "<div>\n",
       "<style scoped>\n",
       "    .dataframe tbody tr th:only-of-type {\n",
       "        vertical-align: middle;\n",
       "    }\n",
       "\n",
       "    .dataframe tbody tr th {\n",
       "        vertical-align: top;\n",
       "    }\n",
       "\n",
       "    .dataframe thead th {\n",
       "        text-align: right;\n",
       "    }\n",
       "</style>\n",
       "<table border=\"1\" class=\"dataframe\">\n",
       "  <thead>\n",
       "    <tr style=\"text-align: right;\">\n",
       "      <th></th>\n",
       "      <th>StudentID</th>\n",
       "      <th>Age</th>\n",
       "      <th>Gender</th>\n",
       "      <th>Ethnicity</th>\n",
       "      <th>ParentalEducation</th>\n",
       "      <th>StudyTimeWeekly</th>\n",
       "      <th>Absences</th>\n",
       "      <th>Tutoring</th>\n",
       "      <th>ParentalSupport</th>\n",
       "      <th>Extracurricular</th>\n",
       "      <th>Sports</th>\n",
       "      <th>Music</th>\n",
       "      <th>Volunteering</th>\n",
       "      <th>GPA</th>\n",
       "      <th>GradeClass</th>\n",
       "    </tr>\n",
       "  </thead>\n",
       "  <tbody>\n",
       "    <tr>\n",
       "      <th>count</th>\n",
       "      <td>2392.000000</td>\n",
       "      <td>2392.000000</td>\n",
       "      <td>2392.000000</td>\n",
       "      <td>2392.000000</td>\n",
       "      <td>2392.000000</td>\n",
       "      <td>2392.000000</td>\n",
       "      <td>2392.000000</td>\n",
       "      <td>2392.000000</td>\n",
       "      <td>2392.000000</td>\n",
       "      <td>2392.000000</td>\n",
       "      <td>2392.000000</td>\n",
       "      <td>2392.000000</td>\n",
       "      <td>2392.000000</td>\n",
       "      <td>2392.000000</td>\n",
       "      <td>2392.000000</td>\n",
       "    </tr>\n",
       "    <tr>\n",
       "      <th>mean</th>\n",
       "      <td>2196.500000</td>\n",
       "      <td>16.468645</td>\n",
       "      <td>0.510870</td>\n",
       "      <td>0.877508</td>\n",
       "      <td>1.746237</td>\n",
       "      <td>9.771992</td>\n",
       "      <td>14.541388</td>\n",
       "      <td>0.301421</td>\n",
       "      <td>2.122074</td>\n",
       "      <td>0.383361</td>\n",
       "      <td>0.303512</td>\n",
       "      <td>0.196906</td>\n",
       "      <td>0.157191</td>\n",
       "      <td>1.906186</td>\n",
       "      <td>2.983696</td>\n",
       "    </tr>\n",
       "    <tr>\n",
       "      <th>std</th>\n",
       "      <td>690.655244</td>\n",
       "      <td>1.123798</td>\n",
       "      <td>0.499986</td>\n",
       "      <td>1.028476</td>\n",
       "      <td>1.000411</td>\n",
       "      <td>5.652774</td>\n",
       "      <td>8.467417</td>\n",
       "      <td>0.458971</td>\n",
       "      <td>1.122813</td>\n",
       "      <td>0.486307</td>\n",
       "      <td>0.459870</td>\n",
       "      <td>0.397744</td>\n",
       "      <td>0.364057</td>\n",
       "      <td>0.915156</td>\n",
       "      <td>1.233908</td>\n",
       "    </tr>\n",
       "    <tr>\n",
       "      <th>min</th>\n",
       "      <td>1001.000000</td>\n",
       "      <td>15.000000</td>\n",
       "      <td>0.000000</td>\n",
       "      <td>0.000000</td>\n",
       "      <td>0.000000</td>\n",
       "      <td>0.001057</td>\n",
       "      <td>0.000000</td>\n",
       "      <td>0.000000</td>\n",
       "      <td>0.000000</td>\n",
       "      <td>0.000000</td>\n",
       "      <td>0.000000</td>\n",
       "      <td>0.000000</td>\n",
       "      <td>0.000000</td>\n",
       "      <td>0.000000</td>\n",
       "      <td>0.000000</td>\n",
       "    </tr>\n",
       "    <tr>\n",
       "      <th>25%</th>\n",
       "      <td>1598.750000</td>\n",
       "      <td>15.000000</td>\n",
       "      <td>0.000000</td>\n",
       "      <td>0.000000</td>\n",
       "      <td>1.000000</td>\n",
       "      <td>5.043079</td>\n",
       "      <td>7.000000</td>\n",
       "      <td>0.000000</td>\n",
       "      <td>1.000000</td>\n",
       "      <td>0.000000</td>\n",
       "      <td>0.000000</td>\n",
       "      <td>0.000000</td>\n",
       "      <td>0.000000</td>\n",
       "      <td>1.174803</td>\n",
       "      <td>2.000000</td>\n",
       "    </tr>\n",
       "    <tr>\n",
       "      <th>50%</th>\n",
       "      <td>2196.500000</td>\n",
       "      <td>16.000000</td>\n",
       "      <td>1.000000</td>\n",
       "      <td>0.000000</td>\n",
       "      <td>2.000000</td>\n",
       "      <td>9.705363</td>\n",
       "      <td>15.000000</td>\n",
       "      <td>0.000000</td>\n",
       "      <td>2.000000</td>\n",
       "      <td>0.000000</td>\n",
       "      <td>0.000000</td>\n",
       "      <td>0.000000</td>\n",
       "      <td>0.000000</td>\n",
       "      <td>1.893393</td>\n",
       "      <td>4.000000</td>\n",
       "    </tr>\n",
       "    <tr>\n",
       "      <th>75%</th>\n",
       "      <td>2794.250000</td>\n",
       "      <td>17.000000</td>\n",
       "      <td>1.000000</td>\n",
       "      <td>2.000000</td>\n",
       "      <td>2.000000</td>\n",
       "      <td>14.408410</td>\n",
       "      <td>22.000000</td>\n",
       "      <td>1.000000</td>\n",
       "      <td>3.000000</td>\n",
       "      <td>1.000000</td>\n",
       "      <td>1.000000</td>\n",
       "      <td>0.000000</td>\n",
       "      <td>0.000000</td>\n",
       "      <td>2.622216</td>\n",
       "      <td>4.000000</td>\n",
       "    </tr>\n",
       "    <tr>\n",
       "      <th>max</th>\n",
       "      <td>3392.000000</td>\n",
       "      <td>18.000000</td>\n",
       "      <td>1.000000</td>\n",
       "      <td>3.000000</td>\n",
       "      <td>4.000000</td>\n",
       "      <td>19.978094</td>\n",
       "      <td>29.000000</td>\n",
       "      <td>1.000000</td>\n",
       "      <td>4.000000</td>\n",
       "      <td>1.000000</td>\n",
       "      <td>1.000000</td>\n",
       "      <td>1.000000</td>\n",
       "      <td>1.000000</td>\n",
       "      <td>4.000000</td>\n",
       "      <td>4.000000</td>\n",
       "    </tr>\n",
       "  </tbody>\n",
       "</table>\n",
       "</div>"
      ],
      "text/plain": [
       "         StudentID          Age       Gender    Ethnicity  ParentalEducation  \\\n",
       "count  2392.000000  2392.000000  2392.000000  2392.000000        2392.000000   \n",
       "mean   2196.500000    16.468645     0.510870     0.877508           1.746237   \n",
       "std     690.655244     1.123798     0.499986     1.028476           1.000411   \n",
       "min    1001.000000    15.000000     0.000000     0.000000           0.000000   \n",
       "25%    1598.750000    15.000000     0.000000     0.000000           1.000000   \n",
       "50%    2196.500000    16.000000     1.000000     0.000000           2.000000   \n",
       "75%    2794.250000    17.000000     1.000000     2.000000           2.000000   \n",
       "max    3392.000000    18.000000     1.000000     3.000000           4.000000   \n",
       "\n",
       "       StudyTimeWeekly     Absences     Tutoring  ParentalSupport  \\\n",
       "count      2392.000000  2392.000000  2392.000000      2392.000000   \n",
       "mean          9.771992    14.541388     0.301421         2.122074   \n",
       "std           5.652774     8.467417     0.458971         1.122813   \n",
       "min           0.001057     0.000000     0.000000         0.000000   \n",
       "25%           5.043079     7.000000     0.000000         1.000000   \n",
       "50%           9.705363    15.000000     0.000000         2.000000   \n",
       "75%          14.408410    22.000000     1.000000         3.000000   \n",
       "max          19.978094    29.000000     1.000000         4.000000   \n",
       "\n",
       "       Extracurricular       Sports        Music  Volunteering          GPA  \\\n",
       "count      2392.000000  2392.000000  2392.000000   2392.000000  2392.000000   \n",
       "mean          0.383361     0.303512     0.196906      0.157191     1.906186   \n",
       "std           0.486307     0.459870     0.397744      0.364057     0.915156   \n",
       "min           0.000000     0.000000     0.000000      0.000000     0.000000   \n",
       "25%           0.000000     0.000000     0.000000      0.000000     1.174803   \n",
       "50%           0.000000     0.000000     0.000000      0.000000     1.893393   \n",
       "75%           1.000000     1.000000     0.000000      0.000000     2.622216   \n",
       "max           1.000000     1.000000     1.000000      1.000000     4.000000   \n",
       "\n",
       "        GradeClass  \n",
       "count  2392.000000  \n",
       "mean      2.983696  \n",
       "std       1.233908  \n",
       "min       0.000000  \n",
       "25%       2.000000  \n",
       "50%       4.000000  \n",
       "75%       4.000000  \n",
       "max       4.000000  "
      ]
     },
     "execution_count": 4,
     "metadata": {},
     "output_type": "execute_result"
    }
   ],
   "source": [
    "df.info()\n",
    "\n",
    "df.isnull().sum()\n",
    "\n",
    "df.describe()"
   ]
  },
  {
   "cell_type": "markdown",
   "id": "9148f608",
   "metadata": {},
   "source": [
    "<hr/>"
   ]
  },
  {
   "cell_type": "markdown",
   "id": "ffe7a261",
   "metadata": {},
   "source": [
    "## Understanding The Data\n",
    "\n",
    "<table>\n",
    "  <tr>\n",
    "    <td><strong>Variable</strong></td>\n",
    "    <td><strong>Description</strong></td>\n",
    "    <td><strong>Limit</strong></td>\n",
    "    \n",
    "  </tr>\n",
    "  <tr>\n",
    "    <td>StudentID</td>\n",
    "    <td>Identifier used to distinguish students uniquely </td>\n",
    "    <td>1001 to 3392</td>\n",
    "  </tr>\n",
    "  <tr>\n",
    "    <td>Age</td>\n",
    "    <td>Student age</td>\n",
    "    <td>15-18 years</td>\n",
    "  </tr>\n",
    "  <tr>\n",
    "    <td>Ethnicity</td>\n",
    "    <td>Student Ethnicity</td>\n",
    "    <td>0 = Caucasian, 1 = African American, 2 = Asian, 3 = Other</td>\n",
    "  </tr>\n",
    "   <tr>\n",
    "    <td>ParentalEducation</td>\n",
    "    <td>Parents' highest level of education</td>\n",
    "    <td>0 = None, 1 = High School, 2 = Some College, 3 = Bachelor's, 4 = Higher Study</td>\n",
    "  </tr>\n",
    "   <tr>\n",
    "    <td>StudyTimeWeekly</td>\n",
    "    <td>Study time in hours per week</td>\n",
    "    <td>0-20 hours</td>\n",
    "  </tr>\n",
    "   <tr>\n",
    "    <td>Absences</td>\n",
    "    <td>Number of absences</td>\n",
    "    <td>0-∞</td>\n",
    "  </tr>\n",
    "   <tr>\n",
    "    <td>Tutoring</td>\n",
    "    <td>Indicates if any prior tutoring was received</td>\n",
    "    <td>0 = No, 1 = Yes</td>\n",
    "  </tr>\n",
    "   <tr>\n",
    "    <td>ParentalSupport</td>\n",
    "    <td>Level of parental support</td>\n",
    "    <td>0 = None, 1 = Low, 2 = Moderate, 3 = High, 4 = Very High</td>\n",
    "  </tr>\n",
    "   <tr>\n",
    "    <td>Extracurricular</td>\n",
    "    <td>Indicates if the student participates in extracurricular activities</td>\n",
    "    <td>0 = No, 1 = Yes</td>\n",
    "  </tr>\n",
    "   <tr>\n",
    "    <td>Sports</td>\n",
    "    <td>Indicates if the student participates in sports</td>\n",
    "    <td>0 = No, 1 = Yes</td>\n",
    "  </tr>\n",
    "   <tr>\n",
    "    <td>Music</td>\n",
    "    <td>Indicates if the student participates in music activities </td>\n",
    "    <td>0 = No, 1 = Yes</td>\n",
    "  </tr>\n",
    "   <tr>\n",
    "    <td>Volunteering</td>\n",
    "    <td>Indicates if the student participates in volunteering </td>\n",
    "    <td>0 = No, 1 = Yes</td>\n",
    "  </tr>\n",
    "   <tr>\n",
    "    <td>GPA</td>\n",
    "    <td>Indicates the Grade Point Average (GPA) </td>\n",
    "    <td>2.0 to 4.0</td>\n",
    "  </tr>\n",
    "   <tr>\n",
    "    <td>GradeClass</td>\n",
    "    <td>Target variable representing grade classification</td>\n",
    "    <td>0 = 'A' (GPA >= 3.5), 1 = 'B' (3.0 <= GPA < 3.5), 2 = 'C' (2.5 <= GPA < 3.0), 3 = 'D' (2.0 <= GPA < 2.5), 4 = 'F' (GPA < 2.0).</td>\n",
    "</table>\n",
    "\n"
   ]
  },
  {
   "cell_type": "markdown",
   "id": "a0782989",
   "metadata": {},
   "source": [
    "#### Graphical illustration of current data"
   ]
  },
  {
   "cell_type": "code",
   "execution_count": 5,
   "id": "f092342a",
   "metadata": {},
   "outputs": [
    {
     "data": {
      "image/png": "[encoded data removed]",
      "text/plain": [
       "<Figure size 1000x600 with 1 Axes>"
      ]
     },
     "metadata": {},
     "output_type": "display_data"
    },
    {
     "data": {
      "image/png": "[encoded data removed]",
      "text/plain": [
       "<Figure size 1000x500 with 4 Axes>"
      ]
     },
     "metadata": {},
     "output_type": "display_data"
    }
   ],
   "source": [
    "# Categorical columns count plot\n",
    "plt.figure(figsize=(10,6))\n",
    "sns.countplot(data=df, x='GradeClass')\n",
    "plt.title('Distribution of GradeClass')\n",
    "plt.show()\n",
    "\n",
    "# Numerical column distribution\n",
    "axes = df[['Age', 'StudyTimeWeekly', 'Absences', 'GPA']].hist(\n",
    "    figsize=(10,5), bins = 10, edgecolor='black')\n",
    "\n",
    "for ax in axes.flatten():\n",
    "    ax.set_xlabel(ax.get_title())  # x-label as the column name\n",
    "    ax.set_ylabel('Frequency')     # y-label as frequency\n",
    "    ax.set_title(f'Distribution of {ax.get_title()}')\n",
    "\n",
    "plt.tight_layout()\n",
    "plt.show()"
   ]
  },
  {
   "cell_type": "markdown",
   "id": "5794bd58",
   "metadata": {},
   "source": [
    "<hr/>"
   ]
  },
  {
   "cell_type": "markdown",
   "id": "cd7aa2a8",
   "metadata": {},
   "source": [
    "## Exploratory Data Analysis :: Univariate Analysis"
   ]
  },
  {
   "cell_type": "code",
   "execution_count": null,
   "id": "b0513a84",
   "metadata": {},
   "outputs": [],
   "source": []
  },
  {
   "cell_type": "markdown",
   "id": "cf21814a",
   "metadata": {},
   "source": [
    "## Exploratory Data Analysis :: Perform Bivariate Analysis"
   ]
  },
  {
   "cell_type": "code",
   "execution_count": null,
   "id": "52d46f1c",
   "metadata": {},
   "outputs": [],
   "source": []
  },
  {
   "cell_type": "markdown",
   "id": "db769971",
   "metadata": {},
   "source": [
    "<hr/>"
   ]
  },
  {
   "cell_type": "markdown",
   "id": "d2bca52d",
   "metadata": {},
   "source": [
    "## Missing value and outlier treatment"
   ]
  },
  {
   "cell_type": "code",
   "execution_count": null,
   "id": "0815b096",
   "metadata": {},
   "outputs": [],
   "source": []
  },
  {
   "cell_type": "markdown",
   "id": "4d979d67",
   "metadata": {},
   "source": [
    "<hr/>"
   ]
  },
  {
   "cell_type": "markdown",
   "id": "6ccb8867",
   "metadata": {},
   "source": [
    "## Evaluation Metrics for classification problem"
   ]
  },
  {
   "cell_type": "code",
   "execution_count": null,
   "id": "a14b9d09",
   "metadata": {},
   "outputs": [],
   "source": []
  },
  {
   "cell_type": "markdown",
   "id": "0bc627e1",
   "metadata": {},
   "source": [
    "<hr/>"
   ]
  },
  {
   "cell_type": "markdown",
   "id": "e9ca9ed0",
   "metadata": {},
   "source": [
    "## Feature engineering"
   ]
  },
  {
   "cell_type": "code",
   "execution_count": null,
   "id": "c886156e",
   "metadata": {},
   "outputs": [],
   "source": []
  },
  {
   "cell_type": "markdown",
   "id": "536ca2d5",
   "metadata": {},
   "source": [
    "<hr/>"
   ]
  },
  {
   "cell_type": "markdown",
   "id": "f8f2e452",
   "metadata": {},
   "source": [
    "## Model Building: Part 1"
   ]
  },
  {
   "cell_type": "code",
   "execution_count": null,
   "id": "eae43d41",
   "metadata": {},
   "outputs": [],
   "source": []
  },
  {
   "cell_type": "markdown",
   "id": "a77b4923",
   "metadata": {},
   "source": [
    "<hr/>"
   ]
  },
  {
   "cell_type": "markdown",
   "id": "a9398302",
   "metadata": {},
   "source": [
    "## Model Building: Part 2"
   ]
  },
  {
   "cell_type": "code",
   "execution_count": null,
   "id": "4005f88d",
   "metadata": {},
   "outputs": [],
   "source": []
  },
  {
   "cell_type": "markdown",
   "id": "7304aeb0",
   "metadata": {},
   "source": [
    "<hr/>"
   ]
  },
  {
   "cell_type": "markdown",
   "id": "1b6cfbcc",
   "metadata": {},
   "source": [
    "## Model Deployment"
   ]
  },
  {
   "cell_type": "code",
   "execution_count": null,
   "id": "fa63cc9e",
   "metadata": {},
   "outputs": [],
   "source": []
  },
  {
   "cell_type": "markdown",
   "id": "d58eaa66",
   "metadata": {},
   "source": [
    "<hr/>"
   ]
  }
 ],
 "metadata": {
  "kernelspec": {
   "display_name": "base",
   "language": "python",
   "name": "python3"
  },
  "language_info": {
   "codemirror_mode": {
    "name": "ipython",
    "version": 3
   },
   "file_extension": ".py",
   "mimetype": "text/x-python",
   "name": "python",
   "nbconvert_exporter": "python",
   "pygments_lexer": "ipython3",
   "version": "3.12.7"
  }
 },
 "nbformat": 4,
 "nbformat_minor": 5
}
