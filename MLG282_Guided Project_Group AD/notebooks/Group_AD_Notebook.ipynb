{
 "cells": [
  {
   "cell_type": "markdown",
   "id": "d292c249",
   "metadata": {},
   "source": [
    "## Group Members:\n",
    "\n",
    "Tshepang Kagiso Mashigo - 578012\n",
    "\n",
    "Jan Frederik Cronje Saayman – 577862\n",
    "\n",
    "Qiniso Manqoba Mngomezul – 601193\n",
    "\n",
    "Reinhardt van Vollenstee – 578095\n"
   ]
  },
  {
   "cell_type": "markdown",
   "id": "fdd58ef5",
   "metadata": {},
   "source": [
    "<hr/>"
   ]
  },
  {
   "cell_type": "markdown",
   "id": "8d2dad92",
   "metadata": {},
   "source": [
    "## Problem Statement\n",
    "BrightPath Academy experiences challenges when supporting students’ academic success. A plethora of data is collected, however, tools that could interpret it are not available, causing at-risk students to not be identified early, interventions not being able to be customized based on the student’s needs and measure the impact of extracurricular activities.\n",
    "### Problem Statement - Expanded\n",
    "BrightPath Academy seeks to pioneer academic excellence while additionally seeking to develop their students’ full potential by encouraging additional extracurricular activities. However, the institution faces challenges when attempting to support every student. These challenges are:\n",
    "- **Delayed Identification of at-risk students:** With current methods set in place, students who are at risk of failing their subjects could remain unnoticed until it is too late to receive intervention from teachers.\n",
    "- **Lack of Targeted Support Strategies:** Current interventions seem to be similar to each other where improved tools can allow for an intervention to be suited and moulded to each individual student’s specific needs.\n",
    "- **Unclear Impact of Extracurricular Activities:** Data collected on the impact of Extracurricular Activities is limited and thus cannot be fully known or predicted, however, this still allows for additional activities to have some sort of impact.\n",
    "- **Data Overload Without Actionable Insights:** Currently, no centralized platform is available to interpret the data and fully utilize its potential and thus allows for an unoptimized system."
   ]
  },
  {
   "cell_type": "markdown",
   "id": "27e4b60a",
   "metadata": {},
   "source": [
    "<hr/>"
   ]
  },
  {
   "cell_type": "markdown",
   "id": "131dc098",
   "metadata": {},
   "source": [
    "## Hypotheses\n",
    "- **H1:** Additional study hours invested per week by the student will allow for a higher GPA (StudyTimeWeekly)\n",
    "- **H2:** Better academic performance may be achieved with further parental support (ParentalSupport)\n",
    "- **H3:** There is a positive correlation between extracurricular activities and academics (Extracurricular)\n",
    "- **H4:** Academic Performance does not significantly rely on gender (Gender)\n",
    "- **H5:** Higher levels of parental education allows for the student to achieve better academic performance (ParentalEducation)\n",
    "\n"
   ]
  },
  {
   "cell_type": "markdown",
   "id": "14da9148",
   "metadata": {},
   "source": [
    "<hr/>"
   ]
  },
  {
   "cell_type": "markdown",
   "id": "23137759",
   "metadata": {},
   "source": [
    "## Getting the System Ready & Loading the Data\n",
    "\n",
    "#### Install environmental dependencies"
   ]
  },
  {
   "cell_type": "code",
   "execution_count": null,
   "id": "36c036e6",
   "metadata": {
    "vscode": {
     "languageId": "powershell"
    }
   },
   "outputs": [],
   "source": [
    "!pip install pandas numpy matplotlib seaborn scikit-learn"
   ]
  },
  {
   "cell_type": "markdown",
   "id": "4516d8fc",
   "metadata": {},
   "source": [
    "#### Import all required Libraries"
   ]
  },
  {
   "cell_type": "code",
   "execution_count": 1,
   "id": "16e78347",
   "metadata": {},
   "outputs": [],
   "source": [
    "import pandas as pd\n",
    "import numpy as np\n",
    "import matplotlib.pyplot as plt\n",
    "import seaborn as sns\n",
    "import os"
   ]
  },
  {
   "cell_type": "markdown",
   "id": "dcb40788",
   "metadata": {},
   "source": [
    "#### Find the datasource and check first five rows"
   ]
  },
  {
   "cell_type": "code",
   "execution_count": null,
   "id": "1b2c1d59",
   "metadata": {},
   "outputs": [],
   "source": [
    "base_dir = os.path.dirname(os.path.abspath(\"__file__\"))  # Current working directory\n",
    "data_path = os.path.join(base_dir, \"..\", \"data\", \"Student_performance_data .csv\")\n",
    "df = pd.read_csv(data_path)\n",
    "\n",
    "df.head()"
   ]
  },
  {
   "cell_type": "markdown",
   "id": "df5e67cf",
   "metadata": {},
   "source": [
    "#### Display a comprehensive list of data types, missing values and statistics"
   ]
  },
  {
   "cell_type": "code",
   "execution_count": null,
   "id": "65822866",
   "metadata": {},
   "outputs": [],
   "source": [
    "df.info()\n",
    "\n",
    "df.isnull().sum()\n",
    "\n",
    "df.describe()"
   ]
  },
  {
   "cell_type": "markdown",
   "id": "9148f608",
   "metadata": {},
   "source": [
    "<hr/>"
   ]
  },
  {
   "cell_type": "markdown",
   "id": "ffe7a261",
   "metadata": {},
   "source": [
    "## Understanding The Data\n",
    "\n",
    "<table>\n",
    "  <tr>\n",
    "    <td><strong>Variable</strong></td>\n",
    "    <td><strong>Description</strong></td>\n",
    "    <td><strong>Limit</strong></td>\n",
    "    \n",
    "  </tr>\n",
    "  <tr>\n",
    "    <td>StudentID</td>\n",
    "    <td>Identifier used to distinguish students uniquely </td>\n",
    "    <td>1001 to 3392</td>\n",
    "  </tr>\n",
    "  <tr>\n",
    "    <td>Age</td>\n",
    "    <td>Student age</td>\n",
    "    <td>15-18 years</td>\n",
    "  </tr>\n",
    "  <tr>\n",
    "    <td>Ethnicity</td>\n",
    "    <td>Student Ethnicity</td>\n",
    "    <td>0 = Caucasian, 1 = African American, 2 = Asian, 3 = Other</td>\n",
    "  </tr>\n",
    "   <tr>\n",
    "    <td>ParentalEducation</td>\n",
    "    <td>Parents' highest level of education</td>\n",
    "    <td>0 = None, 1 = High School, 2 = Some College, 3 = Bachelor's, 4 = Higher Study</td>\n",
    "  </tr>\n",
    "   <tr>\n",
    "    <td>StudyTimeWeekly</td>\n",
    "    <td>Study time in hours per week</td>\n",
    "    <td>0-20 hours</td>\n",
    "  </tr>\n",
    "   <tr>\n",
    "    <td>Absences</td>\n",
    "    <td>Number of absences</td>\n",
    "    <td>0-∞</td>\n",
    "  </tr>\n",
    "   <tr>\n",
    "    <td>Tutoring</td>\n",
    "    <td>Indicates if any prior tutoring was received</td>\n",
    "    <td>0 = No, 1 = Yes</td>\n",
    "  </tr>\n",
    "   <tr>\n",
    "    <td>ParentalSupport</td>\n",
    "    <td>Level of parental support</td>\n",
    "    <td>0 = None, 1 = Low, 2 = Moderate, 3 = High, 4 = Very High</td>\n",
    "  </tr>\n",
    "   <tr>\n",
    "    <td>Extracurricular</td>\n",
    "    <td>Indicates if the student participates in extracurricular activities</td>\n",
    "    <td>0 = No, 1 = Yes</td>\n",
    "  </tr>\n",
    "   <tr>\n",
    "    <td>Sports</td>\n",
    "    <td>Indicates if the student participates in sports</td>\n",
    "    <td>0 = No, 1 = Yes</td>\n",
    "  </tr>\n",
    "   <tr>\n",
    "    <td>Music</td>\n",
    "    <td>Indicates if the student participates in music activities </td>\n",
    "    <td>0 = No, 1 = Yes</td>\n",
    "  </tr>\n",
    "   <tr>\n",
    "    <td>Volunteering</td>\n",
    "    <td>Indicates if the student participates in volunteering </td>\n",
    "    <td>0 = No, 1 = Yes</td>\n",
    "  </tr>\n",
    "   <tr>\n",
    "    <td>GPA</td>\n",
    "    <td>Indicates the Grade Point Average (GPA) </td>\n",
    "    <td>2.0 to 4.0</td>\n",
    "  </tr>\n",
    "   <tr>\n",
    "    <td>GradeClass</td>\n",
    "    <td>Target variable representing grade classification</td>\n",
    "    <td>0 = 'A' (GPA >= 3.5), 1 = 'B' (3.0 <= GPA < 3.5), 2 = 'C' (2.5 <= GPA < 3.0), 3 = 'D' (2.0 <= GPA < 2.5), 4 = 'F' (GPA < 2.0).</td>\n",
    "</table>\n",
    "\n"
   ]
  },
  {
   "cell_type": "markdown",
   "id": "a0782989",
   "metadata": {},
   "source": [
    "#### Graphical illustration of current data"
   ]
  },
  {
   "cell_type": "code",
   "execution_count": null,
   "id": "f092342a",
   "metadata": {},
   "outputs": [],
   "source": [
    "# Categorical columns count plot\n",
    "plt.figure(figsize=(10,6))\n",
    "sns.countplot(data=df, x='GradeClass')\n",
    "plt.title('Distribution of GradeClass')\n",
    "plt.show()\n",
    "\n",
    "# Numerical column distribution\n",
    "axes = df[['Age', 'StudyTimeWeekly', 'Absences', 'GPA']].hist(\n",
    "    figsize=(10,5), bins = 10, edgecolor='black')\n",
    "\n",
    "for ax in axes.flatten():\n",
    "    ax.set_xlabel(ax.get_title())  # x-label as the column name\n",
    "    ax.set_ylabel('Frequency')     # y-label as frequency\n",
    "    ax.set_title(f'Distribution of {ax.get_title()}')\n",
    "\n",
    "plt.tight_layout()\n",
    "plt.show()"
   ]
  },
  {
   "cell_type": "markdown",
   "id": "5794bd58",
   "metadata": {},
   "source": [
    "<hr/>"
   ]
  },
  {
   "cell_type": "markdown",
   "id": "cd7aa2a8",
   "metadata": {},
   "source": [
    "## Exploratory Data Analysis :: Univariate Analysis"
   ]
  },
  {
   "cell_type": "code",
   "execution_count": null,
   "id": "b0513a84",
   "metadata": {},
   "outputs": [],
   "source": []
  },
  {
   "cell_type": "markdown",
   "id": "cf21814a",
   "metadata": {},
   "source": [
    "## Exploratory Data Analysis :: Perform Bivariate Analysis"
   ]
  },
  {
   "cell_type": "code",
   "execution_count": null,
   "id": "52d46f1c",
   "metadata": {},
   "outputs": [],
   "source": []
  },
  {
   "cell_type": "markdown",
   "id": "db769971",
   "metadata": {},
   "source": [
    "<hr/>"
   ]
  },
  {
   "cell_type": "markdown",
   "id": "d2bca52d",
   "metadata": {},
   "source": [
    "## Missing value and outlier treatment"
   ]
  },
  {
   "cell_type": "code",
   "execution_count": null,
   "id": "0815b096",
   "metadata": {},
   "outputs": [],
   "source": []
  },
  {
   "cell_type": "markdown",
   "id": "4d979d67",
   "metadata": {},
   "source": [
    "<hr/>"
   ]
  },
  {
   "cell_type": "markdown",
   "id": "6ccb8867",
   "metadata": {},
   "source": [
    "## Evaluation Metrics for classification problem"
   ]
  },
  {
   "cell_type": "code",
   "execution_count": null,
   "id": "a14b9d09",
   "metadata": {},
   "outputs": [],
   "source": []
  },
  {
   "cell_type": "markdown",
   "id": "0bc627e1",
   "metadata": {},
   "source": [
    "<hr/>"
   ]
  },
  {
   "cell_type": "markdown",
   "id": "e9ca9ed0",
   "metadata": {},
   "source": [
    "## Feature engineering"
   ]
  },
  {
   "cell_type": "code",
   "execution_count": null,
   "id": "c886156e",
   "metadata": {},
   "outputs": [],
   "source": []
  },
  {
   "cell_type": "markdown",
   "id": "536ca2d5",
   "metadata": {},
   "source": [
    "<hr/>"
   ]
  },
  {
   "cell_type": "markdown",
   "id": "f8f2e452",
   "metadata": {},
   "source": [
    "## Model Building: Part 1"
   ]
  },
  {
   "cell_type": "code",
   "execution_count": null,
   "id": "eae43d41",
   "metadata": {},
   "outputs": [],
   "source": []
  },
  {
   "cell_type": "markdown",
   "id": "a77b4923",
   "metadata": {},
   "source": [
    "<hr/>"
   ]
  },
  {
   "cell_type": "markdown",
   "id": "a9398302",
   "metadata": {},
   "source": [
    "## Model Building: Part 2"
   ]
  },
  {
   "cell_type": "code",
   "execution_count": null,
   "id": "4005f88d",
   "metadata": {},
   "outputs": [],
   "source": []
  },
  {
   "cell_type": "markdown",
   "id": "7304aeb0",
   "metadata": {},
   "source": [
    "<hr/>"
   ]
  },
  {
   "cell_type": "markdown",
   "id": "1b6cfbcc",
   "metadata": {},
   "source": [
    "## Model Deployment"
   ]
  },
  {
   "cell_type": "code",
   "execution_count": null,
   "id": "fa63cc9e",
   "metadata": {},
   "outputs": [],
   "source": []
  },
  {
   "cell_type": "markdown",
   "id": "d58eaa66",
   "metadata": {},
   "source": [
    "<hr/>"
   ]
  }
 ],
 "metadata": {
  "kernelspec": {
   "display_name": "base",
   "language": "python",
   "name": "python3"
  },
  "language_info": {
   "codemirror_mode": {
    "name": "ipython",
    "version": 3
   },
   "file_extension": ".py",
   "mimetype": "text/x-python",
   "name": "python",
   "nbconvert_exporter": "python",
   "pygments_lexer": "ipython3",
   "version": "3.12.7"
  }
 },
 "nbformat": 4,
 "nbformat_minor": 5
}
