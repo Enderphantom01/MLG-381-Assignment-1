{
 "cells": [
  {
   "cell_type": "code",
   "execution_count": null,
   "id": "4455670d",
   "metadata": {},
   "outputs": [
    {
     "name": "stdout",
     "output_type": "stream",
     "text": [
      "[3 4 0 ... 2 0 0]\n",
      "<class 'pandas.core.frame.DataFrame'>\n",
      "RangeIndex: 1211 entries, 0 to 1210\n",
      "Data columns (total 22 columns):\n",
      " #   Column               Non-Null Count  Dtype  \n",
      "---  ------               --------------  -----  \n",
      " 0   Age                  1211 non-null   float64\n",
      " 1   StudyTimeWeekly      1211 non-null   float64\n",
      " 2   Absences             1211 non-null   float64\n",
      " 3   Tutoring             1211 non-null   int64  \n",
      " 4   Extracurricular      1211 non-null   int64  \n",
      " 5   Sports               1211 non-null   int64  \n",
      " 6   Music                1211 non-null   int64  \n",
      " 7   Volunteering         1211 non-null   int64  \n",
      " 8   TotalActivities      1211 non-null   float64\n",
      " 9   Gender_1             1211 non-null   int64  \n",
      " 10  Ethnicity_1          1211 non-null   int64  \n",
      " 11  Ethnicity_2          1211 non-null   int64  \n",
      " 12  Ethnicity_3          1211 non-null   int64  \n",
      " 13  ParentalEducation_1  1211 non-null   int64  \n",
      " 14  ParentalEducation_2  1211 non-null   int64  \n",
      " 15  ParentalEducation_3  1211 non-null   int64  \n",
      " 16  ParentalEducation_4  1211 non-null   int64  \n",
      " 17  ParentalSupport_1    1211 non-null   int64  \n",
      " 18  ParentalSupport_2    1211 non-null   int64  \n",
      " 19  ParentalSupport_3    1211 non-null   int64  \n",
      " 20  ParentalSupport_4    1211 non-null   int64  \n",
      " 21  GradeClass           1211 non-null   int64  \n",
      "dtypes: float64(4), int64(18)\n",
      "memory usage: 208.3 KB\n"
     ]
    }
   ],
   "source": [
    "from pathlib import Path\n",
    "import joblib\n",
    "import pandas as pd\n",
    "\n",
    "notebook_path = Path().resolve()\n",
    "data_path = notebook_path.parent / \"data\" / 'test.csv'\n",
    "model_path = notebook_path.parent / \"artifacts\" / 'model.pkl'\n",
    "model = joblib.load(model_path)\n",
    "\n",
    "df = pd.read_csv(data_path)\n",
    "df.head()\n",
    "\n",
    "X_test = df.drop(['GradeClass'], axis=1)\n",
    "y_test = df['GradeClass']\n",
    "\n",
    "y_pred = model.predict(X_test)\n",
    "\n",
    "df.info()\n",
    "\n"
   ]
  },
  {
   "cell_type": "code",
   "execution_count": null,
   "id": "111d8c14",
   "metadata": {},
   "outputs": [],
   "source": []
  }
 ],
 "metadata": {
  "kernelspec": {
   "display_name": "base",
   "language": "python",
   "name": "python3"
  },
  "language_info": {
   "codemirror_mode": {
    "name": "ipython",
    "version": 3
   },
   "file_extension": ".py",
   "mimetype": "text/x-python",
   "name": "python",
   "nbconvert_exporter": "python",
   "pygments_lexer": "ipython3",
   "version": "3.12.7"
  }
 },
 "nbformat": 4,
 "nbformat_minor": 5
}
