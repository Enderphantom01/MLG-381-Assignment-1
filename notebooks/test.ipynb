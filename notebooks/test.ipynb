{
 "cells": [
  {
   "cell_type": "code",
   "execution_count": 1,
   "id": "4455670d",
   "metadata": {},
   "outputs": [],
   "source": [
    "from pathlib import Path\n",
    "import joblib\n",
    "\n",
    "notebook_path = Path().resolve()\n",
    "\n",
    "model_path = notebook_path.parent / \"artifacts\" / 'model_1.pkl'\n",
    "model1 = joblib.load(model_path)\n",
    "\n",
    "model_path = notebook_path.parent / \"artifacts\" / 'model_2.pkl'\n",
    "model2 = joblib.load(model_path)\n"
   ]
  },
  {
   "cell_type": "code",
   "execution_count": 2,
   "id": "12629662",
   "metadata": {},
   "outputs": [
    {
     "data": {
      "text/plain": [
       "<function any(iterable, /)>"
      ]
     },
     "execution_count": 2,
     "metadata": {},
     "output_type": "execute_result"
    }
   ],
   "source": [
    "model1"
   ]
  }
 ],
 "metadata": {
  "kernelspec": {
   "display_name": "base",
   "language": "python",
   "name": "python3"
  },
  "language_info": {
   "codemirror_mode": {
    "name": "ipython",
    "version": 3
   },
   "file_extension": ".py",
   "mimetype": "text/x-python",
   "name": "python",
   "nbconvert_exporter": "python",
   "pygments_lexer": "ipython3",
   "version": "3.12.7"
  }
 },
 "nbformat": 4,
 "nbformat_minor": 5
}
